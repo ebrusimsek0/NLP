{
 "cells": [
  {
   "cell_type": "code",
   "execution_count": 170,
   "metadata": {},
   "outputs": [
    {
     "name": "stderr",
     "output_type": "stream",
     "text": [
      "[nltk_data] Downloading package stopwords to /home/ebru/nltk_data...\n",
      "[nltk_data]   Package stopwords is already up-to-date!\n"
     ]
    }
   ],
   "source": [
    "import numpy as np #lineer cebir kütüphanesi\n",
    "import pandas as pd #veri okuma/ analiz kütüphanesi\n",
    "import os  #işletim sistemi uyumu için\n",
    "import re #regular ifade işlemleri için kütüphane\n",
    "pd.options.mode.chained_assignment = None #uyarıyı görmezden gelmek için\n",
    "import sys\n",
    "\n",
    "import nltk #doğal dil işleme kütüphanesi\n",
    "nltk.download('stopwords')  #stopwords yükleme\n",
    "from nltk.corpus import stopwords #stopwords işlemleri\n",
    "from TurkishStemmer import TurkishStemmer #Türkçe stemming işlemleri\n",
    "import string\n",
    "\n",
    "#from sklearn.model_selection import train_test_split #train test split ayırma\n",
    "from sklearn.feature_extraction.text import CountVectorizer  #BoW ile vektörleştirme\n",
    "from sklearn.feature_extraction.text import TfidfVectorizer  #TF-IDF ile vektörleştirme\n",
    "\n",
    "import matplotlib.pyplot as plt #grafik plot\n",
    "import seaborn as sns #grafik plot"
   ]
  },
  {
   "cell_type": "code",
   "execution_count": 171,
   "metadata": {},
   "outputs": [
    {
     "data": {
      "text/html": [
       "<div>\n",
       "<style scoped>\n",
       "    .dataframe tbody tr th:only-of-type {\n",
       "        vertical-align: middle;\n",
       "    }\n",
       "\n",
       "    .dataframe tbody tr th {\n",
       "        vertical-align: top;\n",
       "    }\n",
       "\n",
       "    .dataframe thead th {\n",
       "        text-align: right;\n",
       "    }\n",
       "</style>\n",
       "<table border=\"1\" class=\"dataframe\">\n",
       "  <thead>\n",
       "    <tr style=\"text-align: right;\">\n",
       "      <th></th>\n",
       "      <th>Unnamed: 0</th>\n",
       "      <th>text</th>\n",
       "      <th>label</th>\n",
       "    </tr>\n",
       "  </thead>\n",
       "  <tbody>\n",
       "    <tr>\n",
       "      <th>0</th>\n",
       "      <td>0</td>\n",
       "      <td>['boğaziç', 'üniversite', 'zeng', 'çocuk', 'gi...</td>\n",
       "      <td>female</td>\n",
       "    </tr>\n",
       "    <tr>\n",
       "      <th>1</th>\n",
       "      <td>1</td>\n",
       "      <td>['eksik', 'audrey', 'hepburnü', 'hayat', 'okuy...</td>\n",
       "      <td>female</td>\n",
       "    </tr>\n",
       "    <tr>\n",
       "      <th>2</th>\n",
       "      <td>2</td>\n",
       "      <td>['uçak', 'binme', 'yazı', 'yetiştir', 'demiş',...</td>\n",
       "      <td>female</td>\n",
       "    </tr>\n",
       "    <tr>\n",
       "      <th>3</th>\n",
       "      <td>3</td>\n",
       "      <td>['somali', 'çocuk', 'öldük', 'insan', 'açlık',...</td>\n",
       "      <td>female</td>\n",
       "    </tr>\n",
       "    <tr>\n",
       "      <th>4</th>\n",
       "      <td>4</td>\n",
       "      <td>['ben', 'şimt', 'öğren', 'anne', 'laliş', '9',...</td>\n",
       "      <td>female</td>\n",
       "    </tr>\n",
       "  </tbody>\n",
       "</table>\n",
       "</div>"
      ],
      "text/plain": [
       "   Unnamed: 0                                               text   label\n",
       "0           0  ['boğaziç', 'üniversite', 'zeng', 'çocuk', 'gi...  female\n",
       "1           1  ['eksik', 'audrey', 'hepburnü', 'hayat', 'okuy...  female\n",
       "2           2  ['uçak', 'binme', 'yazı', 'yetiştir', 'demiş',...  female\n",
       "3           3  ['somali', 'çocuk', 'öldük', 'insan', 'açlık',...  female\n",
       "4           4  ['ben', 'şimt', 'öğren', 'anne', 'laliş', '9',...  female"
      ]
     },
     "execution_count": 171,
     "metadata": {},
     "output_type": "execute_result"
    }
   ],
   "source": [
    "data=pd.read_csv('stemmed.csv',encoding=\"utf8\") \n",
    "data.head()"
   ]
  },
  {
   "cell_type": "code",
   "execution_count": 172,
   "metadata": {},
   "outputs": [
    {
     "data": {
      "text/html": [
       "<div>\n",
       "<style scoped>\n",
       "    .dataframe tbody tr th:only-of-type {\n",
       "        vertical-align: middle;\n",
       "    }\n",
       "\n",
       "    .dataframe tbody tr th {\n",
       "        vertical-align: top;\n",
       "    }\n",
       "\n",
       "    .dataframe thead th {\n",
       "        text-align: right;\n",
       "    }\n",
       "</style>\n",
       "<table border=\"1\" class=\"dataframe\">\n",
       "  <thead>\n",
       "    <tr style=\"text-align: right;\">\n",
       "      <th></th>\n",
       "      <th>text</th>\n",
       "      <th>label</th>\n",
       "    </tr>\n",
       "  </thead>\n",
       "  <tbody>\n",
       "    <tr>\n",
       "      <th>0</th>\n",
       "      <td>['boğaziç', 'üniversite', 'zeng', 'çocuk', 'gi...</td>\n",
       "      <td>female</td>\n",
       "    </tr>\n",
       "    <tr>\n",
       "      <th>1</th>\n",
       "      <td>['eksik', 'audrey', 'hepburnü', 'hayat', 'okuy...</td>\n",
       "      <td>female</td>\n",
       "    </tr>\n",
       "    <tr>\n",
       "      <th>2</th>\n",
       "      <td>['uçak', 'binme', 'yazı', 'yetiştir', 'demiş',...</td>\n",
       "      <td>female</td>\n",
       "    </tr>\n",
       "    <tr>\n",
       "      <th>3</th>\n",
       "      <td>['somali', 'çocuk', 'öldük', 'insan', 'açlık',...</td>\n",
       "      <td>female</td>\n",
       "    </tr>\n",
       "    <tr>\n",
       "      <th>4</th>\n",
       "      <td>['ben', 'şimt', 'öğren', 'anne', 'laliş', '9',...</td>\n",
       "      <td>female</td>\n",
       "    </tr>\n",
       "  </tbody>\n",
       "</table>\n",
       "</div>"
      ],
      "text/plain": [
       "                                                text   label\n",
       "0  ['boğaziç', 'üniversite', 'zeng', 'çocuk', 'gi...  female\n",
       "1  ['eksik', 'audrey', 'hepburnü', 'hayat', 'okuy...  female\n",
       "2  ['uçak', 'binme', 'yazı', 'yetiştir', 'demiş',...  female\n",
       "3  ['somali', 'çocuk', 'öldük', 'insan', 'açlık',...  female\n",
       "4  ['ben', 'şimt', 'öğren', 'anne', 'laliş', '9',...  female"
      ]
     },
     "execution_count": 172,
     "metadata": {},
     "output_type": "execute_result"
    }
   ],
   "source": [
    "data=data.drop(['Unnamed: 0'], axis=1)\n",
    "data.head()"
   ]
  },
  {
   "cell_type": "code",
   "execution_count": 173,
   "metadata": {},
   "outputs": [],
   "source": [
    "#işleme etkisi olmayan noktama işaretleri kaldırılır\n",
    "#string punc'un içindeki default noktalama işaretleri dikkate alır, ayrıca kesme işareti eklendi\n",
    "kaldirilan_noktalamalar = string.punctuation+u\"’\"\n",
    "#noktalama kaldırma fonksiyonu\n",
    "def noktalamaKaldir(text):\n",
    "    return text.translate(str.maketrans('','',kaldirilan_noktalamalar))"
   ]
  },
  {
   "cell_type": "code",
   "execution_count": 174,
   "metadata": {},
   "outputs": [
    {
     "data": {
      "text/html": [
       "<div>\n",
       "<style scoped>\n",
       "    .dataframe tbody tr th:only-of-type {\n",
       "        vertical-align: middle;\n",
       "    }\n",
       "\n",
       "    .dataframe tbody tr th {\n",
       "        vertical-align: top;\n",
       "    }\n",
       "\n",
       "    .dataframe thead th {\n",
       "        text-align: right;\n",
       "    }\n",
       "</style>\n",
       "<table border=\"1\" class=\"dataframe\">\n",
       "  <thead>\n",
       "    <tr style=\"text-align: right;\">\n",
       "      <th></th>\n",
       "      <th>text</th>\n",
       "      <th>label</th>\n",
       "    </tr>\n",
       "  </thead>\n",
       "  <tbody>\n",
       "    <tr>\n",
       "      <th>0</th>\n",
       "      <td>boğaziç üniversite zeng çocuk gittik bir okul ...</td>\n",
       "      <td>female</td>\n",
       "    </tr>\n",
       "    <tr>\n",
       "      <th>1</th>\n",
       "      <td>eksik audrey hepburnü hayat okuyor faşist düşü...</td>\n",
       "      <td>female</td>\n",
       "    </tr>\n",
       "    <tr>\n",
       "      <th>2</th>\n",
       "      <td>uçak binme yazı yetiştir demiş yin yolculuk ka...</td>\n",
       "      <td>female</td>\n",
       "    </tr>\n",
       "    <tr>\n",
       "      <th>3</th>\n",
       "      <td>somali çocuk öldük insan açlık kırıldık haber ...</td>\n",
       "      <td>female</td>\n",
       "    </tr>\n",
       "    <tr>\n",
       "      <th>4</th>\n",
       "      <td>ben şimt öğren anne laliş 9 okul gelt servis i...</td>\n",
       "      <td>female</td>\n",
       "    </tr>\n",
       "  </tbody>\n",
       "</table>\n",
       "</div>"
      ],
      "text/plain": [
       "                                                text   label\n",
       "0  boğaziç üniversite zeng çocuk gittik bir okul ...  female\n",
       "1  eksik audrey hepburnü hayat okuyor faşist düşü...  female\n",
       "2  uçak binme yazı yetiştir demiş yin yolculuk ka...  female\n",
       "3  somali çocuk öldük insan açlık kırıldık haber ...  female\n",
       "4  ben şimt öğren anne laliş 9 okul gelt servis i...  female"
      ]
     },
     "execution_count": 174,
     "metadata": {},
     "output_type": "execute_result"
    }
   ],
   "source": [
    "#vectörleştirme için stemming de oluşan noktalama işaretleri kaldırılır\n",
    "data['text'] = data['text'].apply(lambda text: noktalamaKaldir(text))\n",
    "data.head()"
   ]
  },
  {
   "cell_type": "code",
   "execution_count": 175,
   "metadata": {},
   "outputs": [
    {
     "data": {
      "text/html": [
       "<div>\n",
       "<style scoped>\n",
       "    .dataframe tbody tr th:only-of-type {\n",
       "        vertical-align: middle;\n",
       "    }\n",
       "\n",
       "    .dataframe tbody tr th {\n",
       "        vertical-align: top;\n",
       "    }\n",
       "\n",
       "    .dataframe thead th {\n",
       "        text-align: right;\n",
       "    }\n",
       "</style>\n",
       "<table border=\"1\" class=\"dataframe\">\n",
       "  <thead>\n",
       "    <tr style=\"text-align: right;\">\n",
       "      <th></th>\n",
       "      <th>text</th>\n",
       "      <th>label</th>\n",
       "    </tr>\n",
       "  </thead>\n",
       "  <tbody>\n",
       "    <tr>\n",
       "      <th>0</th>\n",
       "      <td>boğaziç üniversite zeng çocuk gittik bir okul ...</td>\n",
       "      <td>0</td>\n",
       "    </tr>\n",
       "    <tr>\n",
       "      <th>1</th>\n",
       "      <td>eksik audrey hepburnü hayat okuyor faşist düşü...</td>\n",
       "      <td>0</td>\n",
       "    </tr>\n",
       "    <tr>\n",
       "      <th>2</th>\n",
       "      <td>uçak binme yazı yetiştir demiş yin yolculuk ka...</td>\n",
       "      <td>0</td>\n",
       "    </tr>\n",
       "    <tr>\n",
       "      <th>3</th>\n",
       "      <td>somali çocuk öldük insan açlık kırıldık haber ...</td>\n",
       "      <td>0</td>\n",
       "    </tr>\n",
       "    <tr>\n",
       "      <th>4</th>\n",
       "      <td>ben şimt öğren anne laliş 9 okul gelt servis i...</td>\n",
       "      <td>0</td>\n",
       "    </tr>\n",
       "    <tr>\n",
       "      <th>5</th>\n",
       "      <td>ondokuzunç yüzyıl orta i̇ngilterede yorkshir y...</td>\n",
       "      <td>0</td>\n",
       "    </tr>\n",
       "    <tr>\n",
       "      <th>6</th>\n",
       "      <td>oecdn ekonomik kalkın i̇şbirliği örgü yayımlad...</td>\n",
       "      <td>0</td>\n",
       "    </tr>\n",
       "    <tr>\n",
       "      <th>7</th>\n",
       "      <td>i̇nsanlar bir yan sıra kıbrıs kedi mil üzer bi...</td>\n",
       "      <td>0</td>\n",
       "    </tr>\n",
       "    <tr>\n",
       "      <th>8</th>\n",
       "      <td>gidecek bildik bir yer kalma bir yarımlık var ...</td>\n",
       "      <td>0</td>\n",
       "    </tr>\n",
       "    <tr>\n",
       "      <th>9</th>\n",
       "      <td>üniversite i̇ranlı bir arkadaş var mozhgan biz...</td>\n",
       "      <td>0</td>\n",
       "    </tr>\n",
       "    <tr>\n",
       "      <th>10</th>\n",
       "      <td>okuryazartv yıl önç dergicilik heves etmiş bir...</td>\n",
       "      <td>0</td>\n",
       "    </tr>\n",
       "    <tr>\n",
       "      <th>11</th>\n",
       "      <td>sosyal devlet yok sosyal hizmet var “sosyal hi...</td>\n",
       "      <td>0</td>\n",
       "    </tr>\n",
       "    <tr>\n",
       "      <th>12</th>\n",
       "      <td>hazır bir reçe yok “birlikte yaşamaksa” murat ...</td>\n",
       "      <td>0</td>\n",
       "    </tr>\n",
       "    <tr>\n",
       "      <th>13</th>\n",
       "      <td>peler “ben san yemek yapa sen ban güzel bir an...</td>\n",
       "      <td>0</td>\n",
       "    </tr>\n",
       "    <tr>\n",
       "      <th>14</th>\n",
       "      <td>bazen öyl bir oluyor bir kendi dış kalan unutt...</td>\n",
       "      <td>0</td>\n",
       "    </tr>\n",
       "    <tr>\n",
       "      <th>15</th>\n",
       "      <td>kat pencere el sall servis bint git kız sonr g...</td>\n",
       "      <td>0</td>\n",
       "    </tr>\n",
       "    <tr>\n",
       "      <th>16</th>\n",
       "      <td>aç insa bir başka insan reva gördük i̇rkiltici...</td>\n",
       "      <td>0</td>\n",
       "    </tr>\n",
       "    <tr>\n",
       "      <th>17</th>\n",
       "      <td>dünya köşe kat sade kat olduk kat doğduk türl ...</td>\n",
       "      <td>0</td>\n",
       "    </tr>\n",
       "    <tr>\n",
       "      <th>18</th>\n",
       "      <td>bilme gözle mi bebek ev değişim rahats olur eş...</td>\n",
       "      <td>0</td>\n",
       "    </tr>\n",
       "    <tr>\n",
       "      <th>19</th>\n",
       "      <td>yin ölüm cenanaze yin öfke ger dön kaçınç çıkm...</td>\n",
       "      <td>0</td>\n",
       "    </tr>\n",
       "    <tr>\n",
       "      <th>20</th>\n",
       "      <td>tüsi̇adın “vizyon 2050” rapor okuy plan ekonom...</td>\n",
       "      <td>0</td>\n",
       "    </tr>\n",
       "    <tr>\n",
       "      <th>21</th>\n",
       "      <td>jash i̇stanbul birbir tan sosyal âlem üzer tak...</td>\n",
       "      <td>0</td>\n",
       "    </tr>\n",
       "    <tr>\n",
       "      <th>22</th>\n",
       "      <td>bir kat olarak haya ban verdik bir özgürlük de...</td>\n",
       "      <td>0</td>\n",
       "    </tr>\n",
       "    <tr>\n",
       "      <th>23</th>\n",
       "      <td>işç çağır insan gelt türkiye almanya göç 50 yı...</td>\n",
       "      <td>0</td>\n",
       "    </tr>\n",
       "    <tr>\n",
       "      <th>24</th>\n",
       "      <td>hatırlayan var prof dr yılmaz esmer “radikaliz...</td>\n",
       "      <td>0</td>\n",
       "    </tr>\n",
       "    <tr>\n",
       "      <th>25</th>\n",
       "      <td>hep kafa yoran konu fark kim siyasi sorun kim ...</td>\n",
       "      <td>0</td>\n",
       "    </tr>\n",
       "    <tr>\n",
       "      <th>26</th>\n",
       "      <td>hafta acayip olay başbakan erdoğa amerika yaza...</td>\n",
       "      <td>0</td>\n",
       "    </tr>\n",
       "    <tr>\n",
       "      <th>27</th>\n",
       "      <td>geç baş yazılmıyor turne adana turunç ağaç cad...</td>\n",
       "      <td>0</td>\n",
       "    </tr>\n",
       "    <tr>\n",
       "      <th>28</th>\n",
       "      <td>woody allen benç iyi film olan ‘zeligde girdik...</td>\n",
       "      <td>0</td>\n",
       "    </tr>\n",
       "    <tr>\n",
       "      <th>29</th>\n",
       "      <td>sabah bir cinayet işliyor üst kan kuruma unutu...</td>\n",
       "      <td>0</td>\n",
       "    </tr>\n",
       "    <tr>\n",
       "      <th>...</th>\n",
       "      <td>...</td>\n",
       "      <td>...</td>\n",
       "    </tr>\n",
       "    <tr>\n",
       "      <th>453</th>\n",
       "      <td>kız giderek özgürleşme akpyi korkut can atak c...</td>\n",
       "      <td>1</td>\n",
       "    </tr>\n",
       "    <tr>\n",
       "      <th>454</th>\n",
       "      <td>bun bir ad koyma 28 mayıs 2011 cumhuriyet göz ...</td>\n",
       "      <td>1</td>\n",
       "    </tr>\n",
       "    <tr>\n",
       "      <th>455</th>\n",
       "      <td>adam doktor git gidiş gidiş can atak catakliga...</td>\n",
       "      <td>1</td>\n",
       "    </tr>\n",
       "    <tr>\n",
       "      <th>456</th>\n",
       "      <td>i̇ki takım rahat olma dola ilk yarı dol dol bi...</td>\n",
       "      <td>1</td>\n",
       "    </tr>\n",
       "    <tr>\n",
       "      <th>457</th>\n",
       "      <td>acayip maç acayip bir maç izle dün öyle acayip...</td>\n",
       "      <td>1</td>\n",
       "    </tr>\n",
       "    <tr>\n",
       "      <th>458</th>\n",
       "      <td>ben divane gönl ben divane gönlümyin hup hup d...</td>\n",
       "      <td>1</td>\n",
       "    </tr>\n",
       "    <tr>\n",
       "      <th>459</th>\n",
       "      <td>chp ar “atatürkün partisiyiz” yanlış bırakma c...</td>\n",
       "      <td>1</td>\n",
       "    </tr>\n",
       "    <tr>\n",
       "      <th>460</th>\n",
       "      <td>türki denkle 25 haziran 2011 cumhuriyet akpni ...</td>\n",
       "      <td>1</td>\n",
       "    </tr>\n",
       "    <tr>\n",
       "      <th>461</th>\n",
       "      <td>trabzonspor ikinç yarı 6 deplasman git 5ini ka...</td>\n",
       "      <td>1</td>\n",
       "    </tr>\n",
       "    <tr>\n",
       "      <th>462</th>\n",
       "      <td>kaçakçılık avanta yiyor can atak catakligazete...</td>\n",
       "      <td>1</td>\n",
       "    </tr>\n",
       "    <tr>\n",
       "      <th>463</th>\n",
       "      <td>şair ceket ilikleyen şair politika bir diki ta...</td>\n",
       "      <td>1</td>\n",
       "    </tr>\n",
       "    <tr>\n",
       "      <th>464</th>\n",
       "      <td>carvalhal yeters beşiktaş dün sade üç puan kaz...</td>\n",
       "      <td>1</td>\n",
       "    </tr>\n",
       "    <tr>\n",
       "      <th>465</th>\n",
       "      <td>reichstag yang mahkeme 25 ocak 2009 cumhuriyet...</td>\n",
       "      <td>1</td>\n",
       "    </tr>\n",
       "    <tr>\n",
       "      <th>466</th>\n",
       "      <td>emek mi ister balmum müze mi yen yıl ilk gün i...</td>\n",
       "      <td>1</td>\n",
       "    </tr>\n",
       "    <tr>\n",
       "      <th>467</th>\n",
       "      <td>öncelik iyi oynayan antalyaspor kutlama lazım ...</td>\n",
       "      <td>1</td>\n",
       "    </tr>\n",
       "    <tr>\n",
       "      <th>468</th>\n",
       "      <td>fenerbahçe an moralli sivas maçı başlayan müth...</td>\n",
       "      <td>1</td>\n",
       "    </tr>\n",
       "    <tr>\n",
       "      <th>469</th>\n",
       "      <td>demokrasi değil 26 kas 2011 cumhuriyet demokra...</td>\n",
       "      <td>1</td>\n",
       "    </tr>\n",
       "    <tr>\n",
       "      <th>470</th>\n",
       "      <td>hata ders al mersinbeşiktaş karşılaşma enteres...</td>\n",
       "      <td>1</td>\n",
       "    </tr>\n",
       "    <tr>\n",
       "      <th>471</th>\n",
       "      <td>perşemp gün fenerbahçe idman gitmiş aykut koca...</td>\n",
       "      <td>1</td>\n",
       "    </tr>\n",
       "    <tr>\n",
       "      <th>472</th>\n",
       "      <td>dilenen köpek istikrar biraz baş ağrı biraz mu...</td>\n",
       "      <td>1</td>\n",
       "    </tr>\n",
       "    <tr>\n",
       "      <th>473</th>\n",
       "      <td>fenerbahçe ik gün önç galatasara yenme zirve t...</td>\n",
       "      <td>1</td>\n",
       "    </tr>\n",
       "    <tr>\n",
       "      <th>474</th>\n",
       "      <td>şiir “sigara” sözcük kaç geçtik saym fakat bel...</td>\n",
       "      <td>1</td>\n",
       "    </tr>\n",
       "    <tr>\n",
       "      <th>475</th>\n",
       "      <td>musakk güney kore maharet aşçı yaptık elin bıç...</td>\n",
       "      <td>1</td>\n",
       "    </tr>\n",
       "    <tr>\n",
       "      <th>476</th>\n",
       "      <td>sarkozy gidiç dostluk kalıç frans devl tarih z...</td>\n",
       "      <td>1</td>\n",
       "    </tr>\n",
       "    <tr>\n",
       "      <th>477</th>\n",
       "      <td>bela akıl akıl zaman iyilik getirmiyor hat çok...</td>\n",
       "      <td>1</td>\n",
       "    </tr>\n",
       "    <tr>\n",
       "      <th>478</th>\n",
       "      <td>aptal yer konma kadar olmaz can atak catakliga...</td>\n",
       "      <td>1</td>\n",
       "    </tr>\n",
       "    <tr>\n",
       "      <th>479</th>\n",
       "      <td>i̇lk üç madde 15 ek 2011 cumhuriyet 1982 anaya...</td>\n",
       "      <td>1</td>\n",
       "    </tr>\n",
       "    <tr>\n",
       "      <th>480</th>\n",
       "      <td>bebek ağlama i̇nsanı çares bırakan bir bebek a...</td>\n",
       "      <td>1</td>\n",
       "    </tr>\n",
       "    <tr>\n",
       "      <th>481</th>\n",
       "      <td>akpni işin gelmez özel yetki savcılık kaldırıl...</td>\n",
       "      <td>1</td>\n",
       "    </tr>\n",
       "    <tr>\n",
       "      <th>482</th>\n",
       "      <td>bugü 12 eylül bugü 12 eylül 1980 darbe yıldön ...</td>\n",
       "      <td>1</td>\n",
       "    </tr>\n",
       "  </tbody>\n",
       "</table>\n",
       "<p>483 rows × 2 columns</p>\n",
       "</div>"
      ],
      "text/plain": [
       "                                                  text  label\n",
       "0    boğaziç üniversite zeng çocuk gittik bir okul ...      0\n",
       "1    eksik audrey hepburnü hayat okuyor faşist düşü...      0\n",
       "2    uçak binme yazı yetiştir demiş yin yolculuk ka...      0\n",
       "3    somali çocuk öldük insan açlık kırıldık haber ...      0\n",
       "4    ben şimt öğren anne laliş 9 okul gelt servis i...      0\n",
       "5    ondokuzunç yüzyıl orta i̇ngilterede yorkshir y...      0\n",
       "6    oecdn ekonomik kalkın i̇şbirliği örgü yayımlad...      0\n",
       "7    i̇nsanlar bir yan sıra kıbrıs kedi mil üzer bi...      0\n",
       "8    gidecek bildik bir yer kalma bir yarımlık var ...      0\n",
       "9    üniversite i̇ranlı bir arkadaş var mozhgan biz...      0\n",
       "10   okuryazartv yıl önç dergicilik heves etmiş bir...      0\n",
       "11   sosyal devlet yok sosyal hizmet var “sosyal hi...      0\n",
       "12   hazır bir reçe yok “birlikte yaşamaksa” murat ...      0\n",
       "13   peler “ben san yemek yapa sen ban güzel bir an...      0\n",
       "14   bazen öyl bir oluyor bir kendi dış kalan unutt...      0\n",
       "15   kat pencere el sall servis bint git kız sonr g...      0\n",
       "16   aç insa bir başka insan reva gördük i̇rkiltici...      0\n",
       "17   dünya köşe kat sade kat olduk kat doğduk türl ...      0\n",
       "18   bilme gözle mi bebek ev değişim rahats olur eş...      0\n",
       "19   yin ölüm cenanaze yin öfke ger dön kaçınç çıkm...      0\n",
       "20   tüsi̇adın “vizyon 2050” rapor okuy plan ekonom...      0\n",
       "21   jash i̇stanbul birbir tan sosyal âlem üzer tak...      0\n",
       "22   bir kat olarak haya ban verdik bir özgürlük de...      0\n",
       "23   işç çağır insan gelt türkiye almanya göç 50 yı...      0\n",
       "24   hatırlayan var prof dr yılmaz esmer “radikaliz...      0\n",
       "25   hep kafa yoran konu fark kim siyasi sorun kim ...      0\n",
       "26   hafta acayip olay başbakan erdoğa amerika yaza...      0\n",
       "27   geç baş yazılmıyor turne adana turunç ağaç cad...      0\n",
       "28   woody allen benç iyi film olan ‘zeligde girdik...      0\n",
       "29   sabah bir cinayet işliyor üst kan kuruma unutu...      0\n",
       "..                                                 ...    ...\n",
       "453  kız giderek özgürleşme akpyi korkut can atak c...      1\n",
       "454  bun bir ad koyma 28 mayıs 2011 cumhuriyet göz ...      1\n",
       "455  adam doktor git gidiş gidiş can atak catakliga...      1\n",
       "456  i̇ki takım rahat olma dola ilk yarı dol dol bi...      1\n",
       "457  acayip maç acayip bir maç izle dün öyle acayip...      1\n",
       "458  ben divane gönl ben divane gönlümyin hup hup d...      1\n",
       "459  chp ar “atatürkün partisiyiz” yanlış bırakma c...      1\n",
       "460  türki denkle 25 haziran 2011 cumhuriyet akpni ...      1\n",
       "461  trabzonspor ikinç yarı 6 deplasman git 5ini ka...      1\n",
       "462  kaçakçılık avanta yiyor can atak catakligazete...      1\n",
       "463  şair ceket ilikleyen şair politika bir diki ta...      1\n",
       "464  carvalhal yeters beşiktaş dün sade üç puan kaz...      1\n",
       "465  reichstag yang mahkeme 25 ocak 2009 cumhuriyet...      1\n",
       "466  emek mi ister balmum müze mi yen yıl ilk gün i...      1\n",
       "467  öncelik iyi oynayan antalyaspor kutlama lazım ...      1\n",
       "468  fenerbahçe an moralli sivas maçı başlayan müth...      1\n",
       "469  demokrasi değil 26 kas 2011 cumhuriyet demokra...      1\n",
       "470  hata ders al mersinbeşiktaş karşılaşma enteres...      1\n",
       "471  perşemp gün fenerbahçe idman gitmiş aykut koca...      1\n",
       "472  dilenen köpek istikrar biraz baş ağrı biraz mu...      1\n",
       "473  fenerbahçe ik gün önç galatasara yenme zirve t...      1\n",
       "474  şiir “sigara” sözcük kaç geçtik saym fakat bel...      1\n",
       "475  musakk güney kore maharet aşçı yaptık elin bıç...      1\n",
       "476  sarkozy gidiç dostluk kalıç frans devl tarih z...      1\n",
       "477  bela akıl akıl zaman iyilik getirmiyor hat çok...      1\n",
       "478  aptal yer konma kadar olmaz can atak catakliga...      1\n",
       "479  i̇lk üç madde 15 ek 2011 cumhuriyet 1982 anaya...      1\n",
       "480  bebek ağlama i̇nsanı çares bırakan bir bebek a...      1\n",
       "481  akpni işin gelmez özel yetki savcılık kaldırıl...      1\n",
       "482  bugü 12 eylül bugü 12 eylül 1980 darbe yıldön ...      1\n",
       "\n",
       "[483 rows x 2 columns]"
      ]
     },
     "execution_count": 175,
     "metadata": {},
     "output_type": "execute_result"
    }
   ],
   "source": [
    "#Label sayısallaştırılır\n",
    "#female:0 male:1\n",
    "from sklearn.preprocessing import LabelEncoder\n",
    "le = LabelEncoder()\n",
    "data['label']=le.fit_transform(data['label'])\n",
    "data"
   ]
  },
  {
   "cell_type": "code",
   "execution_count": 176,
   "metadata": {},
   "outputs": [],
   "source": [
    "#train test ayırmak için X ve y belirlenir\n",
    "X= data['text']\n",
    "y= data['label']"
   ]
  },
  {
   "cell_type": "code",
   "execution_count": 177,
   "metadata": {},
   "outputs": [
    {
     "data": {
      "text/plain": [
       "0    boğaziç üniversite zeng çocuk gittik bir okul ...\n",
       "1    eksik audrey hepburnü hayat okuyor faşist düşü...\n",
       "2    uçak binme yazı yetiştir demiş yin yolculuk ka...\n",
       "3    somali çocuk öldük insan açlık kırıldık haber ...\n",
       "4    ben şimt öğren anne laliş 9 okul gelt servis i...\n",
       "Name: text, dtype: object"
      ]
     },
     "execution_count": 177,
     "metadata": {},
     "output_type": "execute_result"
    }
   ],
   "source": [
    "X.head()"
   ]
  },
  {
   "cell_type": "code",
   "execution_count": 178,
   "metadata": {},
   "outputs": [
    {
     "data": {
      "text/plain": [
       "0    0\n",
       "1    0\n",
       "2    0\n",
       "3    0\n",
       "4    0\n",
       "Name: label, dtype: int64"
      ]
     },
     "execution_count": 178,
     "metadata": {},
     "output_type": "execute_result"
    }
   ],
   "source": [
    "y.head()"
   ]
  },
  {
   "cell_type": "code",
   "execution_count": 179,
   "metadata": {},
   "outputs": [
    {
     "data": {
      "text/plain": [
       "<483x5241 sparse matrix of type '<class 'numpy.longlong'>'\n",
       "\twith 123225 stored elements in Compressed Sparse Row format>"
      ]
     },
     "execution_count": 179,
     "metadata": {},
     "output_type": "execute_result"
    }
   ],
   "source": [
    "#Bag of Words ile vektörleştirme\n",
    "#Döküman başına \n",
    "#X verisivektörleştirilir\n",
    "# en az 5 belgede yer alan sözcükleri dikkate alır\n",
    "vectorizer = CountVectorizer(min_df=5)\n",
    "X_bow= vectorizer.fit_transform(X)\n",
    "X_bow"
   ]
  },
  {
   "cell_type": "code",
   "execution_count": 180,
   "metadata": {},
   "outputs": [
    {
     "name": "stdout",
     "output_type": "stream",
     "text": [
      "  (0, 781)\t1\n",
      "  (0, 4033)\t1\n",
      "  (0, 1704)\t1\n",
      "  (0, 3580)\t1\n",
      "  (0, 4509)\t1\n",
      "  (0, 4143)\t1\n",
      "  (0, 1012)\t1\n",
      "  (0, 3105)\t2\n",
      "  (0, 3170)\t1\n",
      "  (0, 3812)\t1\n",
      "  (0, 4687)\t1\n",
      "  (0, 3961)\t1\n",
      "  (0, 1686)\t1\n",
      "  (0, 2016)\t1\n",
      "  (0, 1900)\t1\n",
      "  (0, 1146)\t1\n",
      "  (0, 3377)\t1\n",
      "  (0, 4583)\t2\n",
      "  (0, 3346)\t1\n",
      "  (0, 2849)\t1\n",
      "  (0, 289)\t1\n",
      "  (0, 4653)\t1\n",
      "  (0, 4342)\t2\n",
      "  (0, 2243)\t1\n",
      "  (0, 3737)\t1\n",
      "  :\t:\n",
      "  (482, 3946)\t4\n",
      "  (482, 2400)\t2\n",
      "  (482, 2640)\t1\n",
      "  (482, 748)\t1\n",
      "  (482, 4379)\t1\n",
      "  (482, 1931)\t1\n",
      "  (482, 3304)\t1\n",
      "  (482, 725)\t1\n",
      "  (482, 1087)\t5\n",
      "  (482, 2719)\t1\n",
      "  (482, 1519)\t3\n",
      "  (482, 3287)\t3\n",
      "  (482, 1956)\t6\n",
      "  (482, 3840)\t1\n",
      "  (482, 555)\t1\n",
      "  (482, 5141)\t5\n",
      "  (482, 4658)\t2\n",
      "  (482, 847)\t2\n",
      "  (482, 1855)\t1\n",
      "  (482, 3996)\t2\n",
      "  (482, 823)\t4\n",
      "  (482, 4793)\t3\n",
      "  (482, 3296)\t2\n",
      "  (482, 704)\t16\n",
      "  (482, 4947)\t1\n"
     ]
    }
   ],
   "source": [
    "print(X_bow)\n",
    "#(döküman indexi,terim indexi) terim sayısı"
   ]
  },
  {
   "cell_type": "code",
   "execution_count": 181,
   "metadata": {},
   "outputs": [
    {
     "data": {
      "text/plain": [
       "<483x5241 sparse matrix of type '<class 'numpy.float64'>'\n",
       "\twith 123225 stored elements in Compressed Sparse Row format>"
      ]
     },
     "execution_count": 181,
     "metadata": {},
     "output_type": "execute_result"
    }
   ],
   "source": [
    "#TF-IDF 1\n",
    "##TF: Term Frequency / Terim Sıklığı\n",
    "#Terim sıklığı; seçili terimimizin, metin içinde bulunan toplam terimler sayısına bölümüdür.\n",
    "##IDF: Inverse Document Frequency / Ters Döküman Sıklığı\n",
    "#Ters Döküman Sıklığı; metinlerimizin kaçında terimimiz var bunu gösterir. \n",
    "#Toplam metin adetimizin terimi içeren metin adetine bölümünün logaritmasıdır.\n",
    "#TF-IDF Değeri; bu iki değerin çarpımı ile elde edilir.\n",
    "vectorizer = TfidfVectorizer(min_df=5) #en az 5 belgede yer alan sözcükleri dikkate alır\n",
    "X_tfidf1 = vectorizer.fit_transform(X)\n",
    "X_tfidf1"
   ]
  },
  {
   "cell_type": "code",
   "execution_count": 182,
   "metadata": {},
   "outputs": [
    {
     "name": "stdout",
     "output_type": "stream",
     "text": [
      "  (0, 776)\t0.35774424873691624\n",
      "  (0, 5122)\t0.1938901245573085\n",
      "  (0, 4806)\t0.11604561300065566\n",
      "  (0, 4947)\t0.059916739905286426\n",
      "  (0, 1823)\t0.029060062690828697\n",
      "  (0, 704)\t0.2732867142858302\n",
      "  (0, 3256)\t0.1453003134541435\n",
      "  (0, 3296)\t0.06112329496722977\n",
      "  (0, 1605)\t0.03539782128612513\n",
      "  (0, 4793)\t0.07872733137559533\n",
      "  (0, 3360)\t0.0178634521877454\n",
      "  (0, 4999)\t0.029206835979928288\n",
      "  (0, 697)\t0.027452012108373294\n",
      "  (0, 2446)\t0.03485544621343046\n",
      "  (0, 2002)\t0.04826545366656494\n",
      "  (0, 4030)\t0.12926008303820566\n",
      "  (0, 1545)\t0.13838063090788663\n",
      "  (0, 4529)\t0.06463004151910283\n",
      "  (0, 2117)\t0.04444442564356067\n",
      "  (0, 447)\t0.03949569549803353\n",
      "  (0, 823)\t0.04609449040204888\n",
      "  (0, 1499)\t0.0333886558746094\n",
      "  (0, 3063)\t0.08674639170290568\n",
      "  (0, 4125)\t0.04865343216393407\n",
      "  (0, 1523)\t0.045064350131008096\n",
      "  :\t:\n",
      "  (482, 2676)\t0.043239961174984715\n",
      "  (482, 4600)\t0.0364133079284736\n",
      "  (482, 1283)\t0.03544066394225024\n",
      "  (482, 964)\t0.25253621169106905\n",
      "  (482, 965)\t0.04029456468961435\n",
      "  (482, 4242)\t0.033783539517966116\n",
      "  (482, 3829)\t0.04116462438343091\n",
      "  (482, 1586)\t0.043239961174984715\n",
      "  (482, 2962)\t0.04451292659713292\n",
      "  (482, 4727)\t0.037516000733804046\n",
      "  (482, 4817)\t0.04451292659713292\n",
      "  (482, 13)\t0.08427453673930854\n",
      "  (482, 2487)\t0.04116462438343091\n",
      "  (482, 1723)\t0.043239961174984715\n",
      "  (482, 1480)\t0.04213726836965427\n",
      "  (482, 1680)\t0.04451292659713292\n",
      "  (482, 4800)\t0.04029456468961435\n",
      "  (482, 4959)\t0.04213726836965427\n",
      "  (482, 4781)\t0.043239961174984715\n",
      "  (482, 3969)\t0.043239961174984715\n",
      "  (482, 2540)\t0.04029456468961435\n",
      "  (482, 1846)\t0.04451292659713292\n",
      "  (482, 2803)\t0.04029456468961435\n",
      "  (482, 1899)\t0.07625595826316585\n",
      "  (482, 1694)\t0.043239961174984715\n"
     ]
    }
   ],
   "source": [
    "print(X_tfidf1)\n",
    "#(döküman indexi,terim indexi) TF*IDF Değeri"
   ]
  },
  {
   "cell_type": "code",
   "execution_count": 183,
   "metadata": {},
   "outputs": [
    {
     "data": {
      "text/plain": [
       "<483x750 sparse matrix of type '<class 'numpy.float64'>'\n",
       "\twith 68906 stored elements in Compressed Sparse Row format>"
      ]
     },
     "execution_count": 183,
     "metadata": {},
     "output_type": "execute_result"
    }
   ],
   "source": [
    "#TF-IDF 2 \n",
    "#parametreler \n",
    "#analyzer özelliğin kelime ngramlarından oluşacağı, \n",
    "#ngram_range(1, 2) unigram ve bigram , farklı n-gramlar için n-değerleri aralığının alt ve üst sınırı.\n",
    "#max_features, terim sıklığına göre en üst sınır\n",
    "##en az 5 belgede yer alan sözcükleri dikkate alır\n",
    "vectorizer = TfidfVectorizer(analyzer = \"word\", ngram_range =(1, 3),max_features = 750, min_df=5)\n",
    "X_tfidf2 = vectorizer.fit_transform(X)\n",
    "X_tfidf2\n"
   ]
  },
  {
   "cell_type": "code",
   "execution_count": 184,
   "metadata": {},
   "outputs": [
    {
     "name": "stdout",
     "output_type": "stream",
     "text": [
      "  (0, 730)\t0.2702276034148593\n",
      "  (0, 694)\t0.08350686795423334\n",
      "  (0, 290)\t0.04050144953982496\n",
      "  (0, 104)\t0.38088383312556695\n",
      "  (0, 473)\t0.2025072476991248\n",
      "  (0, 482)\t0.08518846201953936\n",
      "  (0, 685)\t0.10972347420709659\n",
      "  (0, 501)\t0.024896563888603725\n",
      "  (0, 702)\t0.04070600969599204\n",
      "  (0, 101)\t0.03826028508619981\n",
      "  (0, 311)\t0.0672682938433604\n",
      "  (0, 584)\t0.1801517356099062\n",
      "  (0, 239)\t0.192863181323202\n",
      "  (0, 641)\t0.0900758678049531\n",
      "  (0, 338)\t0.06194286921126539\n",
      "  (0, 133)\t0.06424258945840874\n",
      "  (0, 453)\t0.12089976004855396\n",
      "  (0, 569)\t0.08687146394081248\n",
      "  (0, 581)\t0.031072572573687406\n",
      "  (0, 497)\t0.07411355529022853\n",
      "  (0, 293)\t0.025761593280750564\n",
      "  (0, 725)\t0.4954172729272421\n",
      "  (0, 138)\t0.04496213451829669\n",
      "  (0, 461)\t0.06878012655150766\n",
      "  (0, 47)\t0.033512146157356204\n",
      "  :\t:\n",
      "  (482, 411)\t0.018976408151230455\n",
      "  (482, 502)\t0.02565055714670113\n",
      "  (482, 683)\t0.02640076089075992\n",
      "  (482, 163)\t0.022289659018534243\n",
      "  (482, 550)\t0.02609236647673764\n",
      "  (482, 212)\t0.05242806047954915\n",
      "  (482, 599)\t0.05218473295347528\n",
      "  (482, 661)\t0.08168059799614052\n",
      "  (482, 514)\t0.025368753976729448\n",
      "  (482, 58)\t0.019704714207993624\n",
      "  (482, 105)\t0.027402603569409135\n",
      "  (482, 185)\t0.02640076089075992\n",
      "  (482, 626)\t0.02705482844260939\n",
      "  (482, 346)\t0.024963473460700922\n",
      "  (482, 139)\t0.04131704904895025\n",
      "  (482, 178)\t0.02122229853787541\n",
      "  (482, 132)\t0.02640076089075992\n",
      "  (482, 243)\t0.02105721247694659\n",
      "  (482, 240)\t0.4887763464672633\n",
      "  (482, 2)\t0.5033476590820819\n",
      "  (482, 228)\t0.02814597782532633\n",
      "  (482, 150)\t0.030116629252368892\n",
      "  (482, 151)\t0.047035374697118826\n",
      "  (482, 176)\t0.10825111296698567\n",
      "  (482, 156)\t0.2498925631584317\n"
     ]
    }
   ],
   "source": [
    "print(X_tfidf2)\n",
    "#(döküman indexi,terim indexi) TF-IDF Değeri"
   ]
  },
  {
   "cell_type": "code",
   "execution_count": 185,
   "metadata": {},
   "outputs": [],
   "source": [
    "#VERİ ANALİZİ-MODEL GELİŞTİRME\n",
    "from sklearn.metrics import accuracy_score, confusion_matrix #metrikler için kütüphane\n",
    "from sklearn import linear_model, naive_bayes, svm #modeller için kütüphane\n",
    "from sklearn.neighbors import KNeighborsClassifier\n",
    "from sklearn.model_selection import train_test_split  #train test ayırma için kütüphane"
   ]
  },
  {
   "cell_type": "code",
   "execution_count": 186,
   "metadata": {},
   "outputs": [
    {
     "data": {
      "text/plain": [
       "scipy.sparse.csr.csr_matrix"
      ]
     },
     "execution_count": 186,
     "metadata": {},
     "output_type": "execute_result"
    }
   ],
   "source": [
    "#BoW ile hazırlanan vektör ile model geliştirme\n",
    "type(X_bow)"
   ]
  },
  {
   "cell_type": "code",
   "execution_count": 187,
   "metadata": {},
   "outputs": [
    {
     "data": {
      "text/plain": [
       "numpy.ndarray"
      ]
     },
     "execution_count": 187,
     "metadata": {},
     "output_type": "execute_result"
    }
   ],
   "source": [
    "#modeli uygulayabilmek için arraya çevrilir\n",
    "X_bow= X_bow.toarray()\n",
    "type(X_bow)"
   ]
  },
  {
   "cell_type": "code",
   "execution_count": 188,
   "metadata": {},
   "outputs": [
    {
     "data": {
      "text/plain": [
       "2531403"
      ]
     },
     "execution_count": 188,
     "metadata": {},
     "output_type": "execute_result"
    }
   ],
   "source": [
    "X_bow.size"
   ]
  },
  {
   "cell_type": "code",
   "execution_count": 189,
   "metadata": {},
   "outputs": [],
   "source": [
    "#Bow ile vektörleştirilmiş veriyi modele vermeden train test split ile rastgele ayırdık\n",
    "X_train, X_test, y_train, y_test = train_test_split(X_bow, y,test_size = 0.2, random_state=42)"
   ]
  },
  {
   "cell_type": "code",
   "execution_count": 190,
   "metadata": {},
   "outputs": [
    {
     "name": "stdout",
     "output_type": "stream",
     "text": [
      "Naive Bayes  : 0.8969072164948454\n"
     ]
    },
    {
     "data": {
      "text/plain": [
       "array([[49,  2],\n",
       "       [ 8, 38]])"
      ]
     },
     "execution_count": 190,
     "metadata": {},
     "output_type": "execute_result"
    }
   ],
   "source": [
    "#Naive Bayes\n",
    "model = naive_bayes.MultinomialNB()\n",
    "model.fit(X_train,y_train)\n",
    "NB_prediction = model.predict(X_test)\n",
    "ACC_bow_nb=accuracy_score(NB_prediction, y_test)\n",
    "print(\"Naive Bayes  :\",ACC_bow_nb)\n",
    "cm_bow_nb=confusion_matrix(y_test, NB_prediction)\n",
    "cm_bow_nb"
   ]
  },
  {
   "cell_type": "code",
   "execution_count": 191,
   "metadata": {},
   "outputs": [
    {
     "name": "stdout",
     "output_type": "stream",
     "text": [
      "Logistic regression : 0.9175257731958762\n"
     ]
    },
    {
     "data": {
      "text/plain": [
       "array([[49,  2],\n",
       "       [ 6, 40]])"
      ]
     },
     "execution_count": 191,
     "metadata": {},
     "output_type": "execute_result"
    }
   ],
   "source": [
    "#Logistic Regresyon\n",
    "model = linear_model.LogisticRegression()\n",
    "model.fit(X_train,y_train)\n",
    "LR_prediction = model.predict(X_test)\n",
    "ACC_bow_lr=accuracy_score(LR_prediction, y_test)\n",
    "print(\"Logistic regression :\",ACC_bow_lr)\n",
    "cm_bow_lr=confusion_matrix(y_test, LR_prediction)\n",
    "cm_bow_lr"
   ]
  },
  {
   "cell_type": "code",
   "execution_count": 192,
   "metadata": {},
   "outputs": [
    {
     "name": "stdout",
     "output_type": "stream",
     "text": [
      "Support Vector Machines : 0.8865979381443299\n"
     ]
    },
    {
     "data": {
      "text/plain": [
       "array([[46,  5],\n",
       "       [ 6, 40]])"
      ]
     },
     "execution_count": 192,
     "metadata": {},
     "output_type": "execute_result"
    }
   ],
   "source": [
    "#Support Vector Machine\n",
    "model = svm.SVC()\n",
    "model.fit(X_train,y_train)\n",
    "SVM_prediction = model.predict(X_test)\n",
    "ACC_bow_svm=accuracy_score(SVM_prediction, y_test)\n",
    "print(\"Support Vector Machines :\",ACC_bow_svm)\n",
    "cm_bow_svm=confusion_matrix(y_test, SVM_prediction)\n",
    "cm_bow_svm"
   ]
  },
  {
   "cell_type": "code",
   "execution_count": 193,
   "metadata": {},
   "outputs": [
    {
     "name": "stdout",
     "output_type": "stream",
     "text": [
      "K Nearest Neighbor : 0.7731958762886598\n"
     ]
    },
    {
     "data": {
      "text/plain": [
       "array([[45,  6],\n",
       "       [16, 30]])"
      ]
     },
     "execution_count": 193,
     "metadata": {},
     "output_type": "execute_result"
    }
   ],
   "source": [
    "#KNN\n",
    "model = KNeighborsClassifier(n_neighbors=3)\n",
    "model.fit(X_train,y_train)\n",
    "KNN_prediction = model.predict(X_test)\n",
    "ACC_bow_knn=accuracy_score(KNN_prediction, y_test)\n",
    "print(\"K Nearest Neighbor :\",ACC_bow_knn)\n",
    "cm_bow_knn=confusion_matrix(y_test, KNN_prediction)\n",
    "cm_bow_knn"
   ]
  },
  {
   "cell_type": "code",
   "execution_count": 194,
   "metadata": {},
   "outputs": [
    {
     "data": {
      "text/plain": [
       "scipy.sparse.csr.csr_matrix"
      ]
     },
     "execution_count": 194,
     "metadata": {},
     "output_type": "execute_result"
    }
   ],
   "source": [
    "#TF IDF ile hazırlanan vektör ile model geliştirme\n",
    "type(X_tfidf1)"
   ]
  },
  {
   "cell_type": "code",
   "execution_count": 195,
   "metadata": {},
   "outputs": [
    {
     "data": {
      "text/plain": [
       "numpy.ndarray"
      ]
     },
     "execution_count": 195,
     "metadata": {},
     "output_type": "execute_result"
    }
   ],
   "source": [
    "#modeli uygulayabilmek için arraya çevrilir\n",
    "X_tfidf1= X_tfidf1.toarray()\n",
    "type(X_tfidf1)"
   ]
  },
  {
   "cell_type": "code",
   "execution_count": 196,
   "metadata": {},
   "outputs": [
    {
     "data": {
      "text/plain": [
       "2531403"
      ]
     },
     "execution_count": 196,
     "metadata": {},
     "output_type": "execute_result"
    }
   ],
   "source": [
    "X_tfidf1.size"
   ]
  },
  {
   "cell_type": "code",
   "execution_count": 197,
   "metadata": {},
   "outputs": [],
   "source": [
    "#TF-IDF 1 ile vektörleştirilmiş veriyi modele vermeden train test split ile rastgele ayırdık\n",
    "X_train, X_test, y_train, y_test = train_test_split(X_tfidf1, y,test_size = 0.2, random_state=42)"
   ]
  },
  {
   "cell_type": "code",
   "execution_count": 198,
   "metadata": {},
   "outputs": [
    {
     "name": "stdout",
     "output_type": "stream",
     "text": [
      "Naive Bayes  : 0.8247422680412371\n"
     ]
    },
    {
     "data": {
      "text/plain": [
       "array([[50,  1],\n",
       "       [16, 30]])"
      ]
     },
     "execution_count": 198,
     "metadata": {},
     "output_type": "execute_result"
    }
   ],
   "source": [
    "#Naive Bayes\n",
    "model = naive_bayes.MultinomialNB()\n",
    "model.fit(X_train,y_train)\n",
    "NB_prediction = model.predict(X_test)\n",
    "ACC_tfidf1_nb=accuracy_score(NB_prediction, y_test)\n",
    "print(\"Naive Bayes  :\",ACC_tfidf1_nb)\n",
    "cm_tfidf1_nb=confusion_matrix(y_test, NB_prediction)\n",
    "cm_tfidf1_nb"
   ]
  },
  {
   "cell_type": "code",
   "execution_count": 199,
   "metadata": {},
   "outputs": [
    {
     "name": "stdout",
     "output_type": "stream",
     "text": [
      "Logistic regression : 0.8762886597938144\n"
     ]
    },
    {
     "data": {
      "text/plain": [
       "array([[48,  3],\n",
       "       [ 9, 37]])"
      ]
     },
     "execution_count": 199,
     "metadata": {},
     "output_type": "execute_result"
    }
   ],
   "source": [
    "#Logistic Regresyon\n",
    "model = linear_model.LogisticRegression()\n",
    "model.fit(X_train,y_train)\n",
    "LR_prediction = model.predict(X_test)\n",
    "ACC_tfidf1_lr=accuracy_score(LR_prediction, y_test)\n",
    "print(\"Logistic regression :\",ACC_tfidf1_lr)\n",
    "cm_tfidf1_lr=confusion_matrix(y_test, LR_prediction)\n",
    "cm_tfidf1_lr"
   ]
  },
  {
   "cell_type": "code",
   "execution_count": 200,
   "metadata": {},
   "outputs": [
    {
     "name": "stdout",
     "output_type": "stream",
     "text": [
      "Support Vector Machines : 0.9278350515463918\n"
     ]
    },
    {
     "data": {
      "text/plain": [
       "array([[49,  2],\n",
       "       [ 5, 41]])"
      ]
     },
     "execution_count": 200,
     "metadata": {},
     "output_type": "execute_result"
    }
   ],
   "source": [
    "#Support Vector Machine\n",
    "model = svm.SVC()\n",
    "model.fit(X_train,y_train)\n",
    "SVM_prediction = model.predict(X_test)\n",
    "ACC_tfidf1_svm=accuracy_score(SVM_prediction, y_test)\n",
    "print(\"Support Vector Machines :\",ACC_tfidf1_svm)\n",
    "cm_tfidf1_svm=confusion_matrix(y_test, SVM_prediction)\n",
    "cm_tfidf1_svm"
   ]
  },
  {
   "cell_type": "code",
   "execution_count": 201,
   "metadata": {},
   "outputs": [
    {
     "name": "stdout",
     "output_type": "stream",
     "text": [
      "K Nearest Neighbor : 0.9072164948453608\n"
     ]
    },
    {
     "data": {
      "text/plain": [
       "array([[48,  3],\n",
       "       [ 6, 40]])"
      ]
     },
     "execution_count": 201,
     "metadata": {},
     "output_type": "execute_result"
    }
   ],
   "source": [
    "#KNN\n",
    "model = KNeighborsClassifier(n_neighbors=3)\n",
    "model.fit(X_train,y_train)\n",
    "KNN_prediction = model.predict(X_test)\n",
    "ACC_tfidf1_knn=accuracy_score(KNN_prediction, y_test)\n",
    "print(\"K Nearest Neighbor :\",ACC_tfidf1_knn)\n",
    "cm_tfidf1_knn=confusion_matrix(y_test, KNN_prediction)\n",
    "cm_tfidf1_knn"
   ]
  },
  {
   "cell_type": "code",
   "execution_count": 202,
   "metadata": {},
   "outputs": [
    {
     "data": {
      "text/plain": [
       "scipy.sparse.csr.csr_matrix"
      ]
     },
     "execution_count": 202,
     "metadata": {},
     "output_type": "execute_result"
    }
   ],
   "source": [
    "#TF IDF ile parametrler değitirilerek hazırlanan vektör ile model geliştirme\n",
    "type(X_tfidf2)"
   ]
  },
  {
   "cell_type": "code",
   "execution_count": 203,
   "metadata": {},
   "outputs": [
    {
     "data": {
      "text/plain": [
       "numpy.ndarray"
      ]
     },
     "execution_count": 203,
     "metadata": {},
     "output_type": "execute_result"
    }
   ],
   "source": [
    "#modeli uygulayabilmek için arraya çevrilir\n",
    "X_tfidf2= X_tfidf2.toarray()\n",
    "type(X_tfidf2)"
   ]
  },
  {
   "cell_type": "code",
   "execution_count": 204,
   "metadata": {},
   "outputs": [
    {
     "data": {
      "text/plain": [
       "362250"
      ]
     },
     "execution_count": 204,
     "metadata": {},
     "output_type": "execute_result"
    }
   ],
   "source": [
    "X_tfidf2.size"
   ]
  },
  {
   "cell_type": "code",
   "execution_count": 205,
   "metadata": {},
   "outputs": [],
   "source": [
    "#TF-IDF 2 ile vektörleştirilmiş veriyi modele vermeden train test split ile rastgele ayırdık\n",
    "X_train, X_test, y_train, y_test = train_test_split(X_tfidf2, y,test_size = 0.2, random_state=42)"
   ]
  },
  {
   "cell_type": "code",
   "execution_count": 206,
   "metadata": {},
   "outputs": [
    {
     "name": "stdout",
     "output_type": "stream",
     "text": [
      "Naive Bayes  : 0.845360824742268\n"
     ]
    },
    {
     "data": {
      "text/plain": [
       "array([[50,  1],\n",
       "       [14, 32]])"
      ]
     },
     "execution_count": 206,
     "metadata": {},
     "output_type": "execute_result"
    }
   ],
   "source": [
    "#Naive Bayes\n",
    "model = naive_bayes.MultinomialNB()\n",
    "model.fit(X_train,y_train)\n",
    "NB_prediction = model.predict(X_test)\n",
    "ACC_tfidf2_nb=accuracy_score(NB_prediction, y_test)\n",
    "print(\"Naive Bayes  :\",ACC_tfidf2_nb)\n",
    "cm_tfidf2_nb=confusion_matrix(y_test, NB_prediction)\n",
    "cm_tfidf2_nb"
   ]
  },
  {
   "cell_type": "code",
   "execution_count": 207,
   "metadata": {},
   "outputs": [
    {
     "name": "stdout",
     "output_type": "stream",
     "text": [
      "Logistic regression : 0.8556701030927835\n"
     ]
    },
    {
     "data": {
      "text/plain": [
       "array([[48,  3],\n",
       "       [11, 35]])"
      ]
     },
     "execution_count": 207,
     "metadata": {},
     "output_type": "execute_result"
    }
   ],
   "source": [
    "#Logistic Regresyon\n",
    "model = linear_model.LogisticRegression()\n",
    "model.fit(X_train,y_train)\n",
    "LR_prediction = model.predict(X_test)\n",
    "ACC_tfidf2_lr=accuracy_score(LR_prediction, y_test)\n",
    "print(\"Logistic regression :\",ACC_tfidf2_lr)\n",
    "cm_tfidf2_lr=confusion_matrix(y_test, LR_prediction)\n",
    "cm_tfidf2_lr"
   ]
  },
  {
   "cell_type": "code",
   "execution_count": 208,
   "metadata": {},
   "outputs": [
    {
     "name": "stdout",
     "output_type": "stream",
     "text": [
      "Support Vector Machines : 0.9072164948453608\n"
     ]
    },
    {
     "data": {
      "text/plain": [
       "array([[48,  3],\n",
       "       [ 6, 40]])"
      ]
     },
     "execution_count": 208,
     "metadata": {},
     "output_type": "execute_result"
    }
   ],
   "source": [
    "#Support Vector Machine\n",
    "model = svm.SVC()\n",
    "model.fit(X_train,y_train)\n",
    "SVM_prediction = model.predict(X_test)\n",
    "ACC_tfidf2_svm=accuracy_score(SVM_prediction, y_test)\n",
    "print(\"Support Vector Machines :\",ACC_tfidf2_svm)\n",
    "cm_tfidf2_svm=confusion_matrix(y_test, SVM_prediction)\n",
    "cm_tfidf2_svm"
   ]
  },
  {
   "cell_type": "code",
   "execution_count": 209,
   "metadata": {},
   "outputs": [
    {
     "name": "stdout",
     "output_type": "stream",
     "text": [
      "K Nearest Neighbor : 0.8969072164948454\n"
     ]
    },
    {
     "data": {
      "text/plain": [
       "array([[49,  2],\n",
       "       [ 8, 38]])"
      ]
     },
     "execution_count": 209,
     "metadata": {},
     "output_type": "execute_result"
    }
   ],
   "source": [
    "#KNN\n",
    "model = KNeighborsClassifier(n_neighbors=3)\n",
    "model.fit(X_train,y_train)\n",
    "KNN_prediction = model.predict(X_test)\n",
    "ACC_tfidf2_knn=accuracy_score(KNN_prediction, y_test)\n",
    "print(\"K Nearest Neighbor :\",ACC_tfidf2_knn)\n",
    "cm_tfidf2_knn=cm_tfidf2_nb=confusion_matrix(y_test, KNN_prediction)\n",
    "cm_tfidf2_knn"
   ]
  },
  {
   "cell_type": "code",
   "execution_count": 210,
   "metadata": {},
   "outputs": [
    {
     "data": {
      "text/plain": [
       "array([0.89690722, 0.91752577, 0.88659794, 0.77319588, 0.82474227,\n",
       "       0.87628866, 0.92783505, 0.90721649, 0.84536082, 0.8556701 ,\n",
       "       0.90721649, 0.89690722])"
      ]
     },
     "execution_count": 210,
     "metadata": {},
     "output_type": "execute_result"
    }
   ],
   "source": [
    "accuracy=np.array([ACC_bow_nb,ACC_bow_lr,ACC_bow_svm,ACC_bow_knn,ACC_tfidf1_nb,ACC_tfidf1_lr,ACC_tfidf1_svm,ACC_tfidf1_knn,ACC_tfidf2_nb,ACC_tfidf2_lr,ACC_tfidf2_svm,ACC_tfidf2_knn])\n",
    "accuracy"
   ]
  },
  {
   "cell_type": "code",
   "execution_count": 211,
   "metadata": {},
   "outputs": [
    {
     "data": {
      "text/plain": [
       "array(['NB_bow', 'LR_bow', 'SVM_bow', 'KNN_bow', 'NB_tfidf1', 'LR_tfidf1',\n",
       "       'SVM_tfidf1', 'KNN_tfidf1', 'NB_tfidf2', 'LR_tfidf2', 'SVM_tfidf2',\n",
       "       'KNN_tfidf2'], dtype='<U10')"
      ]
     },
     "execution_count": 211,
     "metadata": {},
     "output_type": "execute_result"
    }
   ],
   "source": [
    "clf=np.array(['NB_bow','LR_bow','SVM_bow','KNN_bow','NB_tfidf1','LR_tfidf1','SVM_tfidf1','KNN_tfidf1','NB_tfidf2','LR_tfidf2','SVM_tfidf2','KNN_tfidf2'])\n",
    "clf"
   ]
  },
  {
   "cell_type": "code",
   "execution_count": 212,
   "metadata": {},
   "outputs": [
    {
     "data": {
      "text/html": [
       "<div>\n",
       "<style scoped>\n",
       "    .dataframe tbody tr th:only-of-type {\n",
       "        vertical-align: middle;\n",
       "    }\n",
       "\n",
       "    .dataframe tbody tr th {\n",
       "        vertical-align: top;\n",
       "    }\n",
       "\n",
       "    .dataframe thead th {\n",
       "        text-align: right;\n",
       "    }\n",
       "</style>\n",
       "<table border=\"1\" class=\"dataframe\">\n",
       "  <thead>\n",
       "    <tr style=\"text-align: right;\">\n",
       "      <th></th>\n",
       "      <th>accuracy</th>\n",
       "    </tr>\n",
       "  </thead>\n",
       "  <tbody>\n",
       "    <tr>\n",
       "      <th>0</th>\n",
       "      <td>0.896907</td>\n",
       "    </tr>\n",
       "    <tr>\n",
       "      <th>1</th>\n",
       "      <td>0.917526</td>\n",
       "    </tr>\n",
       "    <tr>\n",
       "      <th>2</th>\n",
       "      <td>0.886598</td>\n",
       "    </tr>\n",
       "    <tr>\n",
       "      <th>3</th>\n",
       "      <td>0.773196</td>\n",
       "    </tr>\n",
       "    <tr>\n",
       "      <th>4</th>\n",
       "      <td>0.824742</td>\n",
       "    </tr>\n",
       "    <tr>\n",
       "      <th>5</th>\n",
       "      <td>0.876289</td>\n",
       "    </tr>\n",
       "    <tr>\n",
       "      <th>6</th>\n",
       "      <td>0.927835</td>\n",
       "    </tr>\n",
       "    <tr>\n",
       "      <th>7</th>\n",
       "      <td>0.907216</td>\n",
       "    </tr>\n",
       "    <tr>\n",
       "      <th>8</th>\n",
       "      <td>0.845361</td>\n",
       "    </tr>\n",
       "    <tr>\n",
       "      <th>9</th>\n",
       "      <td>0.855670</td>\n",
       "    </tr>\n",
       "    <tr>\n",
       "      <th>10</th>\n",
       "      <td>0.907216</td>\n",
       "    </tr>\n",
       "    <tr>\n",
       "      <th>11</th>\n",
       "      <td>0.896907</td>\n",
       "    </tr>\n",
       "  </tbody>\n",
       "</table>\n",
       "</div>"
      ],
      "text/plain": [
       "    accuracy\n",
       "0   0.896907\n",
       "1   0.917526\n",
       "2   0.886598\n",
       "3   0.773196\n",
       "4   0.824742\n",
       "5   0.876289\n",
       "6   0.927835\n",
       "7   0.907216\n",
       "8   0.845361\n",
       "9   0.855670\n",
       "10  0.907216\n",
       "11  0.896907"
      ]
     },
     "execution_count": 212,
     "metadata": {},
     "output_type": "execute_result"
    }
   ],
   "source": [
    "df_a = pd.DataFrame(accuracy, columns = ['accuracy'])\n",
    "df_a"
   ]
  },
  {
   "cell_type": "code",
   "execution_count": 213,
   "metadata": {},
   "outputs": [
    {
     "data": {
      "text/html": [
       "<div>\n",
       "<style scoped>\n",
       "    .dataframe tbody tr th:only-of-type {\n",
       "        vertical-align: middle;\n",
       "    }\n",
       "\n",
       "    .dataframe tbody tr th {\n",
       "        vertical-align: top;\n",
       "    }\n",
       "\n",
       "    .dataframe thead th {\n",
       "        text-align: right;\n",
       "    }\n",
       "</style>\n",
       "<table border=\"1\" class=\"dataframe\">\n",
       "  <thead>\n",
       "    <tr style=\"text-align: right;\">\n",
       "      <th></th>\n",
       "      <th>model</th>\n",
       "    </tr>\n",
       "  </thead>\n",
       "  <tbody>\n",
       "    <tr>\n",
       "      <th>0</th>\n",
       "      <td>NB_bow</td>\n",
       "    </tr>\n",
       "    <tr>\n",
       "      <th>1</th>\n",
       "      <td>LR_bow</td>\n",
       "    </tr>\n",
       "    <tr>\n",
       "      <th>2</th>\n",
       "      <td>SVM_bow</td>\n",
       "    </tr>\n",
       "    <tr>\n",
       "      <th>3</th>\n",
       "      <td>KNN_bow</td>\n",
       "    </tr>\n",
       "    <tr>\n",
       "      <th>4</th>\n",
       "      <td>NB_tfidf1</td>\n",
       "    </tr>\n",
       "    <tr>\n",
       "      <th>5</th>\n",
       "      <td>LR_tfidf1</td>\n",
       "    </tr>\n",
       "    <tr>\n",
       "      <th>6</th>\n",
       "      <td>SVM_tfidf1</td>\n",
       "    </tr>\n",
       "    <tr>\n",
       "      <th>7</th>\n",
       "      <td>KNN_tfidf1</td>\n",
       "    </tr>\n",
       "    <tr>\n",
       "      <th>8</th>\n",
       "      <td>NB_tfidf2</td>\n",
       "    </tr>\n",
       "    <tr>\n",
       "      <th>9</th>\n",
       "      <td>LR_tfidf2</td>\n",
       "    </tr>\n",
       "    <tr>\n",
       "      <th>10</th>\n",
       "      <td>SVM_tfidf2</td>\n",
       "    </tr>\n",
       "    <tr>\n",
       "      <th>11</th>\n",
       "      <td>KNN_tfidf2</td>\n",
       "    </tr>\n",
       "  </tbody>\n",
       "</table>\n",
       "</div>"
      ],
      "text/plain": [
       "         model\n",
       "0       NB_bow\n",
       "1       LR_bow\n",
       "2      SVM_bow\n",
       "3      KNN_bow\n",
       "4    NB_tfidf1\n",
       "5    LR_tfidf1\n",
       "6   SVM_tfidf1\n",
       "7   KNN_tfidf1\n",
       "8    NB_tfidf2\n",
       "9    LR_tfidf2\n",
       "10  SVM_tfidf2\n",
       "11  KNN_tfidf2"
      ]
     },
     "execution_count": 213,
     "metadata": {},
     "output_type": "execute_result"
    }
   ],
   "source": [
    "df_c = pd.DataFrame(clf, columns = ['model'])\n",
    "df_c"
   ]
  },
  {
   "cell_type": "code",
   "execution_count": 214,
   "metadata": {},
   "outputs": [
    {
     "data": {
      "text/html": [
       "<div>\n",
       "<style scoped>\n",
       "    .dataframe tbody tr th:only-of-type {\n",
       "        vertical-align: middle;\n",
       "    }\n",
       "\n",
       "    .dataframe tbody tr th {\n",
       "        vertical-align: top;\n",
       "    }\n",
       "\n",
       "    .dataframe thead th {\n",
       "        text-align: right;\n",
       "    }\n",
       "</style>\n",
       "<table border=\"1\" class=\"dataframe\">\n",
       "  <thead>\n",
       "    <tr style=\"text-align: right;\">\n",
       "      <th></th>\n",
       "      <th>accuracy</th>\n",
       "      <th>model</th>\n",
       "    </tr>\n",
       "  </thead>\n",
       "  <tbody>\n",
       "    <tr>\n",
       "      <th>0</th>\n",
       "      <td>0.896907</td>\n",
       "      <td>NB_bow</td>\n",
       "    </tr>\n",
       "    <tr>\n",
       "      <th>1</th>\n",
       "      <td>0.917526</td>\n",
       "      <td>LR_bow</td>\n",
       "    </tr>\n",
       "    <tr>\n",
       "      <th>2</th>\n",
       "      <td>0.886598</td>\n",
       "      <td>SVM_bow</td>\n",
       "    </tr>\n",
       "    <tr>\n",
       "      <th>3</th>\n",
       "      <td>0.773196</td>\n",
       "      <td>KNN_bow</td>\n",
       "    </tr>\n",
       "    <tr>\n",
       "      <th>4</th>\n",
       "      <td>0.824742</td>\n",
       "      <td>NB_tfidf1</td>\n",
       "    </tr>\n",
       "    <tr>\n",
       "      <th>5</th>\n",
       "      <td>0.876289</td>\n",
       "      <td>LR_tfidf1</td>\n",
       "    </tr>\n",
       "    <tr>\n",
       "      <th>6</th>\n",
       "      <td>0.927835</td>\n",
       "      <td>SVM_tfidf1</td>\n",
       "    </tr>\n",
       "    <tr>\n",
       "      <th>7</th>\n",
       "      <td>0.907216</td>\n",
       "      <td>KNN_tfidf1</td>\n",
       "    </tr>\n",
       "    <tr>\n",
       "      <th>8</th>\n",
       "      <td>0.845361</td>\n",
       "      <td>NB_tfidf2</td>\n",
       "    </tr>\n",
       "    <tr>\n",
       "      <th>9</th>\n",
       "      <td>0.855670</td>\n",
       "      <td>LR_tfidf2</td>\n",
       "    </tr>\n",
       "    <tr>\n",
       "      <th>10</th>\n",
       "      <td>0.907216</td>\n",
       "      <td>SVM_tfidf2</td>\n",
       "    </tr>\n",
       "    <tr>\n",
       "      <th>11</th>\n",
       "      <td>0.896907</td>\n",
       "      <td>KNN_tfidf2</td>\n",
       "    </tr>\n",
       "  </tbody>\n",
       "</table>\n",
       "</div>"
      ],
      "text/plain": [
       "    accuracy       model\n",
       "0   0.896907      NB_bow\n",
       "1   0.917526      LR_bow\n",
       "2   0.886598     SVM_bow\n",
       "3   0.773196     KNN_bow\n",
       "4   0.824742   NB_tfidf1\n",
       "5   0.876289   LR_tfidf1\n",
       "6   0.927835  SVM_tfidf1\n",
       "7   0.907216  KNN_tfidf1\n",
       "8   0.845361   NB_tfidf2\n",
       "9   0.855670   LR_tfidf2\n",
       "10  0.907216  SVM_tfidf2\n",
       "11  0.896907  KNN_tfidf2"
      ]
     },
     "execution_count": 214,
     "metadata": {},
     "output_type": "execute_result"
    }
   ],
   "source": [
    "grafik=pd.concat([df_a, df_c], axis=1)\n",
    "grafik"
   ]
  },
  {
   "cell_type": "code",
   "execution_count": 215,
   "metadata": {},
   "outputs": [
    {
     "data": {
      "image/png": "[encoded data removed]",
      "text/plain": [
       "<Figure size 986.4x595.44 with 1 Axes>"
      ]
     },
     "metadata": {},
     "output_type": "display_data"
    }
   ],
   "source": [
    "sns.set(rc={'figure.figsize':(13.7,8.27)})\n",
    "ax = sns.barplot(x=\"model\", y=\"accuracy\", data=grafik)"
   ]
  },
  {
   "cell_type": "code",
   "execution_count": 216,
   "metadata": {},
   "outputs": [
    {
     "data": {
      "text/plain": [
       "0    51\n",
       "1    46\n",
       "Name: label, dtype: int64"
      ]
     },
     "execution_count": 216,
     "metadata": {},
     "output_type": "execute_result"
    }
   ],
   "source": [
    "y_test.value_counts()"
   ]
  },
  {
   "cell_type": "code",
   "execution_count": 258,
   "metadata": {},
   "outputs": [
    {
     "data": {
      "text/plain": [
       "0    198\n",
       "1    188\n",
       "Name: label, dtype: int64"
      ]
     },
     "execution_count": 258,
     "metadata": {},
     "output_type": "execute_result"
    }
   ],
   "source": [
    "y_train.value_counts()"
   ]
  },
  {
   "cell_type": "code",
   "execution_count": 245,
   "metadata": {},
   "outputs": [
    {
     "data": {
      "image/png": "[encoded data removed]",
      "text/plain": [
       "<Figure size 986.4x595.44 with 1 Axes>"
      ]
     },
     "metadata": {},
     "output_type": "display_data"
    }
   ],
   "source": [
    "ax = sns.heatmap(cm_bow_nb, square=True, annot=True, annot_kws={\"size\": 30}, cbar=False, cmap='Blues', fmt='g')\n",
    "ax.set_xlabel('Predicted Labels',fontsize = 15)\n",
    "ax.set_ylabel('True Labels',fontsize = 15)\n",
    "ax.set_title('Confusion Matrix of NB (Bow vector)',fontsize = 16)\n",
    "ax.xaxis.set_ticklabels(['Female', 'Male'],fontsize = 15)\n",
    "ax.yaxis.set_ticklabels(['Female', 'Male'],fontsize = 15)\n",
    "plt.show()"
   ]
  },
  {
   "cell_type": "code",
   "execution_count": 246,
   "metadata": {},
   "outputs": [
    {
     "data": {
      "image/png": "[encoded data removed]",
      "text/plain": [
       "<Figure size 986.4x595.44 with 1 Axes>"
      ]
     },
     "metadata": {},
     "output_type": "display_data"
    }
   ],
   "source": [
    "ax = sns.heatmap(cm_bow_lr, square=True, annot=True, annot_kws={\"size\": 30}, cbar=False, cmap='Blues', fmt='g')\n",
    "ax.set_xlabel('Predicted Labels',fontsize = 15)\n",
    "ax.set_ylabel('True Labels',fontsize = 15)\n",
    "ax.set_title('Confusion Matrix of LR (Bow vector)',fontsize = 16)\n",
    "ax.xaxis.set_ticklabels(['Female', 'Male'],fontsize = 15)\n",
    "ax.yaxis.set_ticklabels(['Female', 'Male'],fontsize = 15)\n",
    "plt.show()"
   ]
  },
  {
   "cell_type": "code",
   "execution_count": 247,
   "metadata": {},
   "outputs": [
    {
     "data": {
      "image/png": "[encoded data removed]",
      "text/plain": [
       "<Figure size 986.4x595.44 with 1 Axes>"
      ]
     },
     "metadata": {},
     "output_type": "display_data"
    }
   ],
   "source": [
    "ax = sns.heatmap(cm_bow_svm, square=True, annot=True,annot_kws={\"size\": 30},  cbar=False, cmap='Blues', fmt='g')\n",
    "ax.set_xlabel('Predicted Labels',fontsize = 15)\n",
    "ax.set_ylabel('True Labels',fontsize = 15)\n",
    "ax.set_title('Confusion Matrix of SVM (Bow vector)',fontsize = 16)\n",
    "ax.xaxis.set_ticklabels(['Female', 'Male'],fontsize = 15)\n",
    "ax.yaxis.set_ticklabels(['Female', 'Male'],fontsize = 15)\n",
    "plt.show()"
   ]
  },
  {
   "cell_type": "code",
   "execution_count": 248,
   "metadata": {},
   "outputs": [
    {
     "data": {
      "image/png": "[encoded data removed]",
      "text/plain": [
       "<Figure size 986.4x595.44 with 1 Axes>"
      ]
     },
     "metadata": {},
     "output_type": "display_data"
    }
   ],
   "source": [
    "ax = sns.heatmap(cm_bow_knn, square=True, annot=True,annot_kws={\"size\": 30}, cbar=False, cmap='Blues', fmt='g')\n",
    "ax.set_xlabel('Predicted Labels',fontsize = 15)\n",
    "ax.set_ylabel('True Labels',fontsize = 15)\n",
    "ax.set_title('Confusion Matrix of KNN (Bow vector)',fontsize = 16)\n",
    "ax.xaxis.set_ticklabels(['Female', 'Male'],fontsize = 15)\n",
    "ax.yaxis.set_ticklabels(['Female', 'Male'],fontsize = 15)\n",
    "plt.show()"
   ]
  },
  {
   "cell_type": "code",
   "execution_count": 249,
   "metadata": {},
   "outputs": [
    {
     "data": {
      "image/png": "[encoded data removed]",
      "text/plain": [
       "<Figure size 986.4x595.44 with 1 Axes>"
      ]
     },
     "metadata": {},
     "output_type": "display_data"
    }
   ],
   "source": [
    "ax = sns.heatmap(cm_tfidf1_nb, square=True, annot=True,annot_kws={\"size\": 30}, cbar=False, cmap='Blues', fmt='g')\n",
    "ax.set_xlabel('Predicted Labels',fontsize = 15)\n",
    "ax.set_ylabel('True Labels',fontsize = 15)\n",
    "ax.set_title('Confusion Matrix of NB (TF-IDF-1 vector)',fontsize = 16)\n",
    "ax.xaxis.set_ticklabels(['Female', 'Male'],fontsize = 15)\n",
    "ax.yaxis.set_ticklabels(['Female', 'Male'],fontsize = 15)\n",
    "plt.show()"
   ]
  },
  {
   "cell_type": "code",
   "execution_count": 250,
   "metadata": {},
   "outputs": [
    {
     "data": {
      "image/png": "[encoded data removed]",
      "text/plain": [
       "<Figure size 986.4x595.44 with 1 Axes>"
      ]
     },
     "metadata": {},
     "output_type": "display_data"
    }
   ],
   "source": [
    "ax = sns.heatmap(cm_tfidf1_lr, square=True, annot=True, annot_kws={\"size\": 30},cbar=False, cmap='Blues', fmt='g')\n",
    "ax.set_xlabel('Predicted Labels',fontsize = 15)\n",
    "ax.set_ylabel('True Labels',fontsize = 15)\n",
    "ax.set_title('Confusion Matrix of LR (TF-IDF-1 vector)',fontsize = 16)\n",
    "ax.xaxis.set_ticklabels(['Female', 'Male'],fontsize = 15)\n",
    "ax.yaxis.set_ticklabels(['Female', 'Male'],fontsize = 15)\n",
    "plt.show()"
   ]
  },
  {
   "cell_type": "code",
   "execution_count": 251,
   "metadata": {},
   "outputs": [
    {
     "data": {
      "image/png": "[encoded data removed]",
      "text/plain": [
       "<Figure size 986.4x595.44 with 1 Axes>"
      ]
     },
     "metadata": {},
     "output_type": "display_data"
    }
   ],
   "source": [
    "ax = sns.heatmap(cm_tfidf1_svm, square=True, annot=True, annot_kws={\"size\": 30}, cbar=False, cmap='Blues', fmt='g')\n",
    "ax.set_xlabel('Predicted Labels',fontsize = 15)\n",
    "ax.set_ylabel('True Labels',fontsize = 15)\n",
    "ax.set_title('Confusion Matrix of SVM (TF-IDF-1 vector)',fontsize = 16)\n",
    "ax.xaxis.set_ticklabels(['Female', 'Male'],fontsize = 15)\n",
    "ax.yaxis.set_ticklabels(['Female', 'Male'],fontsize = 15)\n",
    "plt.show()"
   ]
  },
  {
   "cell_type": "code",
   "execution_count": 252,
   "metadata": {},
   "outputs": [
    {
     "data": {
      "image/png": "[encoded data removed]",
      "text/plain": [
       "<Figure size 986.4x595.44 with 1 Axes>"
      ]
     },
     "metadata": {},
     "output_type": "display_data"
    }
   ],
   "source": [
    "ax = sns.heatmap(cm_tfidf1_knn, square=True, annot=True, annot_kws={\"size\": 30},cbar=False, cmap='Blues', fmt='g')\n",
    "ax.set_xlabel('Predicted Labels',fontsize = 15)\n",
    "ax.set_ylabel('True Labels',fontsize = 15)\n",
    "ax.set_title('Confusion Matrix of KNN (TF-IDF-1 vector)',fontsize = 16)\n",
    "ax.xaxis.set_ticklabels(['Female', 'Male'],fontsize = 15)\n",
    "ax.yaxis.set_ticklabels(['Female', 'Male'],fontsize = 15)\n",
    "plt.show()"
   ]
  },
  {
   "cell_type": "code",
   "execution_count": 253,
   "metadata": {},
   "outputs": [
    {
     "data": {
      "image/png": "[encoded data removed]",
      "text/plain": [
       "<Figure size 986.4x595.44 with 1 Axes>"
      ]
     },
     "metadata": {},
     "output_type": "display_data"
    }
   ],
   "source": [
    "ax = sns.heatmap(cm_tfidf2_nb, square=True, annot=True, annot_kws={\"size\": 30},cbar=False, cmap='Blues', fmt='g')\n",
    "ax.set_xlabel('Predicted Labels',fontsize = 15)\n",
    "ax.set_ylabel('True Labels',fontsize = 15)\n",
    "ax.set_title('Confusion Matrix of NB(TF-IDF-2 vector)',fontsize = 16)\n",
    "ax.xaxis.set_ticklabels(['Female', 'Male'],fontsize = 15)\n",
    "ax.yaxis.set_ticklabels(['Female', 'Male'],fontsize = 15)\n",
    "plt.show()"
   ]
  },
  {
   "cell_type": "code",
   "execution_count": 254,
   "metadata": {},
   "outputs": [
    {
     "data": {
      "image/png": "[encoded data removed]",
      "text/plain": [
       "<Figure size 986.4x595.44 with 1 Axes>"
      ]
     },
     "metadata": {},
     "output_type": "display_data"
    }
   ],
   "source": [
    "ax = sns.heatmap(cm_tfidf2_lr, square=True, annot=True, annot_kws={\"size\": 30},cbar=False, cmap='Blues', fmt='g')\n",
    "ax.set_xlabel('Predicted Labels',fontsize = 15)\n",
    "ax.set_ylabel('True Labels',fontsize = 15)\n",
    "ax.set_title('Confusion Matrix of LR (TF-IDF-2 vector)',fontsize = 16)\n",
    "ax.xaxis.set_ticklabels(['Female', 'Male'],fontsize = 15)\n",
    "ax.yaxis.set_ticklabels(['Female', 'Male'],fontsize = 15)\n",
    "plt.show()"
   ]
  },
  {
   "cell_type": "code",
   "execution_count": 255,
   "metadata": {},
   "outputs": [
    {
     "data": {
      "image/png": "[encoded data removed]",
      "text/plain": [
       "<Figure size 986.4x595.44 with 1 Axes>"
      ]
     },
     "metadata": {},
     "output_type": "display_data"
    }
   ],
   "source": [
    "ax = sns.heatmap(cm_tfidf2_svm, square=True, annot=True, annot_kws={\"size\": 30},cbar=False, cmap='Blues', fmt='g')\n",
    "ax.set_xlabel('Predicted Labels',fontsize = 15)\n",
    "ax.set_ylabel('True Labels',fontsize = 15)\n",
    "ax.set_title('Confusion Matrix of SVM (TF-IDF-2 vector)',fontsize = 16)\n",
    "ax.xaxis.set_ticklabels(['Female', 'Male'],fontsize = 15)\n",
    "ax.yaxis.set_ticklabels(['Female', 'Male'],fontsize = 15)\n",
    "plt.show()"
   ]
  },
  {
   "cell_type": "code",
   "execution_count": 256,
   "metadata": {},
   "outputs": [
    {
     "data": {
      "image/png": "[encoded data removed]",
      "text/plain": [
       "<Figure size 986.4x595.44 with 1 Axes>"
      ]
     },
     "metadata": {},
     "output_type": "display_data"
    }
   ],
   "source": [
    "ax = sns.heatmap(cm_tfidf2_knn, square=True, annot=True, annot_kws={\"size\": 30},cbar=False, cmap='Blues', fmt='g')\n",
    "ax.set_xlabel('Predicted Labels',fontsize = 15)\n",
    "ax.set_ylabel('True Labels',fontsize = 15)\n",
    "ax.set_title('Confusion Matrix of KNN  (TF-IDF-2 vector)',fontsize = 16)\n",
    "ax.xaxis.set_ticklabels(['Female', 'Male'],fontsize = 15)\n",
    "ax.yaxis.set_ticklabels(['Female', 'Male'],fontsize = 15)\n",
    "plt.show()"
   ]
  },
  {
   "cell_type": "code",
   "execution_count": null,
   "metadata": {},
   "outputs": [],
   "source": []
  },
  {
   "cell_type": "code",
   "execution_count": null,
   "metadata": {},
   "outputs": [],
   "source": []
  },
  {
   "cell_type": "code",
   "execution_count": null,
   "metadata": {},
   "outputs": [],
   "source": []
  },
  {
   "cell_type": "code",
   "execution_count": null,
   "metadata": {},
   "outputs": [],
   "source": []
  }
 ],
 "metadata": {
  "kernelspec": {
   "display_name": "Python 3",
   "language": "python",
   "name": "python3"
  },
  "language_info": {
   "codemirror_mode": {
    "name": "ipython",
    "version": 3
   },
   "file_extension": ".py",
   "mimetype": "text/x-python",
   "name": "python",
   "nbconvert_exporter": "python",
   "pygments_lexer": "ipython3",
   "version": "3.7.3"
  }
 },
 "nbformat": 4,
 "nbformat_minor": 2
}
